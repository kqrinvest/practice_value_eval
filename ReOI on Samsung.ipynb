{
 "cells": [
  {
   "cell_type": "code",
   "execution_count": null,
   "metadata": {},
   "outputs": [],
   "source": [
    "import pandas as pd\n",
    "import yfinance as yf\n",
    "import numpy as np"
   ]
  },
  {
   "cell_type": "markdown",
   "metadata": {},
   "source": [
    "# Financial Statment 가져오기"
   ]
  },
  {
   "cell_type": "code",
   "execution_count": null,
   "metadata": {},
   "outputs": [],
   "source": [
    "bs = pd.read_excel('./[삼성전자]사업보고서_재무제표(2020.03.30)_ko.xls', sheet_name=1, header=6, index_col=0)"
   ]
  },
  {
   "cell_type": "code",
   "execution_count": null,
   "metadata": {
    "scrolled": true
   },
   "outputs": [],
   "source": [
    "bs.index"
   ]
  },
  {
   "cell_type": "code",
   "execution_count": null,
   "metadata": {},
   "outputs": [],
   "source": [
    "new_index=list(map(str.strip, bs.index))"
   ]
  },
  {
   "cell_type": "code",
   "execution_count": null,
   "metadata": {
    "scrolled": false
   },
   "outputs": [],
   "source": [
    "bs.index=new_index\n",
    "bs"
   ]
  },
  {
   "cell_type": "code",
   "execution_count": null,
   "metadata": {},
   "outputs": [],
   "source": [
    "income = pd.read_excel('./[삼성전자]사업보고서_재무제표(2020.03.30)_ko.xls', sheet_name=2, header=6, index_col=0)"
   ]
  },
  {
   "cell_type": "code",
   "execution_count": null,
   "metadata": {
    "scrolled": false
   },
   "outputs": [],
   "source": [
    "income"
   ]
  },
  {
   "cell_type": "code",
   "execution_count": null,
   "metadata": {},
   "outputs": [],
   "source": [
    "income.index"
   ]
  },
  {
   "cell_type": "code",
   "execution_count": null,
   "metadata": {},
   "outputs": [],
   "source": [
    "new_index=list(map(str.strip, income.index))\n",
    "income.index=new_index"
   ]
  },
  {
   "cell_type": "code",
   "execution_count": null,
   "metadata": {
    "scrolled": false
   },
   "outputs": [],
   "source": [
    "cost_of_debt = income.loc['금융비용','제 51 기']/(bs.loc['단기차입금','제 51 기']+bs.loc['장기차입금','제 51 기']+bs.loc['사채','제 51 기'])\n",
    "cost_of_debt #49%는 말도 안되는데..? 주석을 살펴보니 금융비용아래에 외환 차익도 있다"
   ]
  },
  {
   "cell_type": "code",
   "execution_count": null,
   "metadata": {
    "scrolled": true
   },
   "outputs": [],
   "source": [
    "cost_of_debt = 686356/(bs.loc['단기차입금','제 51 기']+bs.loc['장기차입금','제 51 기']+bs.loc['사채','제 51 기'])\n",
    "cost_of_debt"
   ]
  },
  {
   "cell_type": "markdown",
   "metadata": {},
   "source": [
    "# 주가 데이터 가져와서 베타 구하기"
   ]
  },
  {
   "cell_type": "code",
   "execution_count": null,
   "metadata": {},
   "outputs": [],
   "source": [
    "start='2015-10-07'\n",
    "end='2020-10-07'"
   ]
  },
  {
   "cell_type": "code",
   "execution_count": null,
   "metadata": {},
   "outputs": [],
   "source": [
    "yf.download('005930.KS', start=start, end=end).head()"
   ]
  },
  {
   "cell_type": "code",
   "execution_count": null,
   "metadata": {
    "scrolled": true
   },
   "outputs": [],
   "source": [
    "samsung = yf.download('005930.KS', start=start, end=end)['Adj Close'].to_frame()\n",
    "kospi = yf.download('^KS11', start=start, end=end)['Adj Close'].to_frame()"
   ]
  },
  {
   "cell_type": "code",
   "execution_count": null,
   "metadata": {},
   "outputs": [],
   "source": [
    "samsung.head()"
   ]
  },
  {
   "cell_type": "code",
   "execution_count": null,
   "metadata": {},
   "outputs": [],
   "source": [
    "samsung['daily return'] = (samsung['Adj Close'] - samsung['Adj Close'].shift(1))/samsung['Adj Close'].shift(1)"
   ]
  },
  {
   "cell_type": "code",
   "execution_count": null,
   "metadata": {
    "scrolled": true
   },
   "outputs": [],
   "source": [
    "samsung.head()"
   ]
  },
  {
   "cell_type": "code",
   "execution_count": null,
   "metadata": {},
   "outputs": [],
   "source": [
    "samsung['mkt daily return'] = (kospi['Adj Close'] - kospi['Adj Close'].shift(1))/kospi['Adj Close'].shift(1)"
   ]
  },
  {
   "cell_type": "code",
   "execution_count": null,
   "metadata": {
    "scrolled": false
   },
   "outputs": [],
   "source": [
    "samsung.tail()"
   ]
  },
  {
   "cell_type": "code",
   "execution_count": null,
   "metadata": {
    "scrolled": true
   },
   "outputs": [],
   "source": [
    "samsung.info()"
   ]
  },
  {
   "cell_type": "code",
   "execution_count": null,
   "metadata": {},
   "outputs": [],
   "source": [
    "samsung=samsung.dropna()"
   ]
  },
  {
   "cell_type": "code",
   "execution_count": null,
   "metadata": {},
   "outputs": [],
   "source": [
    "beta= np.cov(samsung['daily return'],samsung['mkt daily return'])[0][1]/np.var(samsung['mkt daily return'])"
   ]
  },
  {
   "cell_type": "code",
   "execution_count": null,
   "metadata": {
    "scrolled": true
   },
   "outputs": [],
   "source": [
    "beta"
   ]
  },
  {
   "cell_type": "code",
   "execution_count": null,
   "metadata": {},
   "outputs": [],
   "source": [
    "adj_beta = 2/3 + beta/3\n",
    "adj_beta"
   ]
  },
  {
   "cell_type": "code",
   "execution_count": null,
   "metadata": {},
   "outputs": [],
   "source": [
    "risk_free = 0.01544"
   ]
  },
  {
   "cell_type": "markdown",
   "metadata": {},
   "source": [
    "## CAPM"
   ]
  },
  {
   "cell_type": "code",
   "execution_count": null,
   "metadata": {
    "scrolled": true
   },
   "outputs": [],
   "source": [
    "cost_of_equity = risk_free + adj_beta*0.06\n",
    "cost_of_equity"
   ]
  },
  {
   "cell_type": "markdown",
   "metadata": {},
   "source": [
    "## WACC"
   ]
  },
  {
   "cell_type": "code",
   "execution_count": null,
   "metadata": {},
   "outputs": [],
   "source": [
    "tax_rate = income.loc['법인세비용','제 51 기']/income.loc['법인세비용차감전순이익(손실)','제 51 기']\n",
    "tax_rate"
   ]
  },
  {
   "cell_type": "code",
   "execution_count": null,
   "metadata": {},
   "outputs": [],
   "source": [
    "debt=bs.loc['부채총계','제 51 기']\n",
    "equity=bs.loc['자본총계','제 51 기']\n",
    "asset=debt+equity"
   ]
  },
  {
   "cell_type": "code",
   "execution_count": null,
   "metadata": {},
   "outputs": [],
   "source": [
    "print(debt)\n",
    "print(equity)\n",
    "print(debt/equity)"
   ]
  },
  {
   "cell_type": "code",
   "execution_count": null,
   "metadata": {},
   "outputs": [],
   "source": [
    "wacc = (debt/asset)*cost_of_debt*(1-tax_rate) + (equity/asset)*cost_of_equity"
   ]
  },
  {
   "cell_type": "code",
   "execution_count": null,
   "metadata": {},
   "outputs": [],
   "source": [
    "wacc"
   ]
  },
  {
   "cell_type": "markdown",
   "metadata": {},
   "source": [
    "# ReOI model을 활용한 주가 평가하기"
   ]
  },
  {
   "cell_type": "markdown",
   "metadata": {},
   "source": [
    "## 1. 현재의 NOA, NFO 값 계산"
   ]
  },
  {
   "cell_type": "markdown",
   "metadata": {},
   "source": [
    "NOA =  영업관련 자산 - 영업관련 부채\n",
    "NFO = 장기/단기 부채 - 현금자산"
   ]
  },
  {
   "cell_type": "code",
   "execution_count": null,
   "metadata": {
    "scrolled": false
   },
   "outputs": [],
   "source": [
    "bs"
   ]
  },
  {
   "cell_type": "code",
   "execution_count": null,
   "metadata": {},
   "outputs": [],
   "source": [
    "bs.index"
   ]
  },
  {
   "cell_type": "code",
   "execution_count": null,
   "metadata": {},
   "outputs": [],
   "source": [
    "bs.T"
   ]
  },
  {
   "cell_type": "code",
   "execution_count": null,
   "metadata": {},
   "outputs": [],
   "source": [
    "bs2=bs.T"
   ]
  },
  {
   "cell_type": "code",
   "execution_count": null,
   "metadata": {},
   "outputs": [],
   "source": [
    "bs2['op asset'] = bs2['매출채권']+bs2['미수금']+bs2['선급금']+bs2['선급비용']+bs2['재고자산']+bs2['기타유동자산']+bs2['유형자산']+bs2['무형자산']"
   ]
  },
  {
   "cell_type": "code",
   "execution_count": null,
   "metadata": {},
   "outputs": [],
   "source": [
    "bs2['op asset']"
   ]
  },
  {
   "cell_type": "code",
   "execution_count": null,
   "metadata": {},
   "outputs": [],
   "source": [
    "bs2['op lia'] = bs2['부채총계']-bs2['단기차입금']-bs2['장기차입금']-bs2['사채']"
   ]
  },
  {
   "cell_type": "code",
   "execution_count": null,
   "metadata": {},
   "outputs": [],
   "source": [
    "bs2['op lia']"
   ]
  },
  {
   "cell_type": "code",
   "execution_count": null,
   "metadata": {},
   "outputs": [],
   "source": [
    "bs2['NOA']=bs2['op asset']-bs2['op lia']"
   ]
  },
  {
   "cell_type": "code",
   "execution_count": null,
   "metadata": {
    "scrolled": true
   },
   "outputs": [],
   "source": [
    "bs2['NOA']"
   ]
  },
  {
   "cell_type": "code",
   "execution_count": null,
   "metadata": {},
   "outputs": [],
   "source": [
    "NOA_0 = bs2.loc['제 51 기','NOA']\n",
    "NOA_0"
   ]
  },
  {
   "cell_type": "code",
   "execution_count": null,
   "metadata": {},
   "outputs": [],
   "source": [
    "bs2['NFO']=bs2['단기차입금']+bs2['장기차입금']+bs2['사채']-bs2['현금및현금성자산']"
   ]
  },
  {
   "cell_type": "code",
   "execution_count": null,
   "metadata": {},
   "outputs": [],
   "source": [
    "bs2['NFO']"
   ]
  },
  {
   "cell_type": "markdown",
   "metadata": {},
   "source": [
    "## 2. ReOI 계산"
   ]
  },
  {
   "cell_type": "code",
   "execution_count": null,
   "metadata": {},
   "outputs": [],
   "source": [
    "income.index"
   ]
  },
  {
   "cell_type": "code",
   "execution_count": null,
   "metadata": {},
   "outputs": [],
   "source": [
    "sales_1 = income.loc['수익(매출액)','제 51 기']*1.05\n",
    "sales_1"
   ]
  },
  {
   "cell_type": "code",
   "execution_count": null,
   "metadata": {},
   "outputs": [],
   "source": [
    "operating_profit_margin = income.loc['영업이익(손실)','제 51 기']/income.loc['수익(매출액)','제 51 기']\n",
    "operating_profit_margin"
   ]
  },
  {
   "cell_type": "code",
   "execution_count": null,
   "metadata": {},
   "outputs": [],
   "source": [
    "OI_1= sales_1*operating_profit_margin*(1-tax_rate)\n",
    "OI_1"
   ]
  },
  {
   "cell_type": "code",
   "execution_count": null,
   "metadata": {},
   "outputs": [],
   "source": [
    "ReOI_1 = OI_1 - wacc*NOA_0\n",
    "ReOI_1"
   ]
  },
  {
   "cell_type": "code",
   "execution_count": null,
   "metadata": {},
   "outputs": [],
   "source": [
    "print(sales_1/NOA_0)\n",
    "NOA_turnover=1.7"
   ]
  },
  {
   "cell_type": "code",
   "execution_count": null,
   "metadata": {},
   "outputs": [],
   "source": [
    "sales_2 = sales_1*1.07\n",
    "NOA_1 = sales_2/NOA_turnover\n",
    "OI_2 = sales_2*operating_profit_margin*(1-tax_rate)\n",
    "ReOI_2 = OI_2-wacc*NOA_1\n",
    "print(ReOI_2)"
   ]
  },
  {
   "cell_type": "code",
   "execution_count": null,
   "metadata": {
    "scrolled": true
   },
   "outputs": [],
   "source": [
    "sales_3 = sales_2*1.05\n",
    "NOA_2 = sales_3/NOA_turnover\n",
    "OI_3 = sales_3*operating_profit_margin*(1-tax_rate)\n",
    "ReOI_3 = OI_3-wacc*NOA_2\n",
    "print(ReOI_3)"
   ]
  },
  {
   "cell_type": "code",
   "execution_count": null,
   "metadata": {},
   "outputs": [],
   "source": [
    "growth=0.03\n",
    "sales_4 = sales_3*(growth+1)\n",
    "NOA_3 = sales_4/NOA_turnover\n",
    "OI_4 = sales_4*operating_profit_margin*(1-tax_rate)\n",
    "ReOI_4 = OI_4-wacc*NOA_3\n",
    "CV = ReOI_4/(wacc-growth)\n",
    "print(CV)"
   ]
  },
  {
   "cell_type": "code",
   "execution_count": null,
   "metadata": {},
   "outputs": [],
   "source": [
    "value_of_firm = NOA_0 + ReOI_1/(1+wacc)**1 + ReOI_2/(1+wacc)**2 + ReOI_3/(1+wacc)**3 + CV/(1+wacc)**3\n",
    "value_of_debt = bs2['NFO'][0]\n",
    "value_of_equity = value_of_firm - value_of_debt"
   ]
  },
  {
   "cell_type": "code",
   "execution_count": null,
   "metadata": {},
   "outputs": [],
   "source": [
    "print(value_of_equity)"
   ]
  },
  {
   "cell_type": "code",
   "execution_count": null,
   "metadata": {},
   "outputs": [],
   "source": [
    "number_of_shares_outstanding = 5969782550\n",
    "stock_price = value_of_equity*1000000/number_of_shares_outstanding"
   ]
  },
  {
   "cell_type": "code",
   "execution_count": null,
   "metadata": {},
   "outputs": [],
   "source": [
    "print(stock_price)"
   ]
  },
  {
   "cell_type": "markdown",
   "metadata": {},
   "source": [
    "## 3. Function화"
   ]
  },
  {
   "cell_type": "code",
   "execution_count": null,
   "metadata": {},
   "outputs": [],
   "source": [
    "NOA = [NOA_0]\n",
    "sales = [income.loc['수익(매출액)','제 51 기']]\n",
    "OI = []\n",
    "ReOI = []\n",
    "cv_ReOIandCV = []\n",
    "growth = 0.03\n",
    "NOA_turnover = 1.7\n",
    "operating_profit_margin = income.loc['영업이익(손실)','제 51 기']/income.loc['수익(매출액)','제 51 기']\n",
    "tax_rate = income.loc['법인세비용','제 51 기']/income.loc['법인세비용차감전순이익(손실)','제 51 기']\n",
    "wacc = (debt/asset)*cost_of_debt*(1-tax_rate) + (equity/asset)*cost_of_equity\n",
    "value_of_debt = bs2['NFO'][0]\n",
    "number_of_shares_outstanding = 5969782550"
   ]
  },
  {
   "cell_type": "code",
   "execution_count": null,
   "metadata": {},
   "outputs": [],
   "source": [
    "def stock_price(*sales_growth):\n",
    "    for i,j in enumerate(sales_growth):\n",
    "        temp_sales=sales[i]*(1+j)\n",
    "        sales.append(temp_sales)\n",
    "        \n",
    "        if i!=0:\n",
    "            temp_NOA=temp_sales/NOA_turnover\n",
    "            NOA.append(temp_NOA)\n",
    "        \n",
    "        temp_OI=temp_sales*operating_profit_margin*(1-tax_rate)\n",
    "        OI.append(temp_OI)\n",
    "        \n",
    "        temp_ReOI=temp_OI-wacc*NOA[i]\n",
    "        ReOI.append(temp_ReOI)\n",
    "        \n",
    "        cv_ReOIandCV.append(temp_ReOI/(1+wacc)**(i+1))\n",
    "        \n",
    "        if i==len(sales_growth)-1:\n",
    "            last_sales=temp_sales*(1+growth)\n",
    "            last_OI=last_sales*operating_profit_margin*(1-tax_rate)\n",
    "            last_NOA=last_sales/NOA_turnover\n",
    "            last_ReOI=last_OI-wacc*last_NOA\n",
    "            CV=last_ReOI/(wacc-growth)\n",
    "            cv_ReOIandCV.append(CV/(1+wacc)**(i+1))\n",
    "        \n",
    "    print('value of firm is: ',(NOA[0]+sum(cv_ReOIandCV))*1000000)\n",
    "    print('value of equity is: ', (NOA[0]+sum(cv_ReOIandCV)-value_of_debt)*1000000)\n",
    "    print('expected stock price is: ', (NOA[0]+sum(cv_ReOIandCV)-value_of_debt)*1000000/number_of_shares_outstanding)"
   ]
  },
  {
   "cell_type": "code",
   "execution_count": null,
   "metadata": {
    "scrolled": false
   },
   "outputs": [],
   "source": [
    "NOA = [NOA_0]\n",
    "sales = [income.loc['수익(매출액)','제 51 기']]\n",
    "OI = []\n",
    "ReOI = []\n",
    "cv_ReOIandCV = []\n",
    "growth = 0.03\n",
    "NOA_turnover = 1.7\n",
    "operating_profit_margin = income.loc['영업이익(손실)','제 51 기']/income.loc['수익(매출액)','제 51 기']\n",
    "tax_rate = income.loc['법인세비용','제 51 기']/income.loc['법인세비용차감전순이익(손실)','제 51 기']\n",
    "wacc = (debt/asset)*cost_of_debt*(1-tax_rate) + (equity/asset)*cost_of_equity\n",
    "value_of_debt = bs2['NFO'][0]\n",
    "number_of_shares_outstanding = 5969782550\n",
    "\n",
    "stock_price(0.05,0.07,0.05)"
   ]
  },
  {
   "cell_type": "markdown",
   "metadata": {},
   "source": [
    "여기서 사용된 가정:\n",
    "수익 상승률, 고정된 NOA turnover, wacc 값과 wacc이 고정, leverage 고정, 고정된 operating profit margin"
   ]
  },
  {
   "cell_type": "code",
   "execution_count": null,
   "metadata": {},
   "outputs": [],
   "source": []
  }
 ],
 "metadata": {
  "kernelspec": {
   "display_name": "py36",
   "language": "python",
   "name": "py36"
  },
  "language_info": {
   "codemirror_mode": {
    "name": "ipython",
    "version": 3
   },
   "file_extension": ".py",
   "mimetype": "text/x-python",
   "name": "python",
   "nbconvert_exporter": "python",
   "pygments_lexer": "ipython3",
   "version": "3.7.6"
  }
 },
 "nbformat": 4,
 "nbformat_minor": 2
}
